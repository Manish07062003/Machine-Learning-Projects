{
 "cells": [
  {
   "cell_type": "code",
   "execution_count": null,
   "id": "ca2ae83a",
   "metadata": {},
   "outputs": [],
   "source": [
    "import cv2"
   ]
  },
  {
   "cell_type": "code",
   "execution_count": null,
   "id": "9cd2ceeb",
   "metadata": {},
   "outputs": [],
   "source": [
    "cap = cv2.VideoCapture(0)"
   ]
  },
  {
   "cell_type": "code",
   "execution_count": null,
   "id": "29ec97be",
   "metadata": {},
   "outputs": [],
   "source": [
    "# video streaming in grey mode\n",
    "while True: \n",
    "    status,photo = cap.read()\n",
    "    # function to display the video in grey color\n",
    "    greyPhoto=cv2.cvtColor(photo,cv2.COLOR_BGR2GRAY)\n",
    "    cv2.imshow(\"Myphoto\",greyPhoto)\n",
    "    if cv2.waitKey(10)==13:\n",
    "        break\n",
    "cv2.destroyAllWindows()"
   ]
  },
  {
   "cell_type": "code",
   "execution_count": null,
   "id": "a81179b6",
   "metadata": {},
   "outputs": [],
   "source": [
    "# loading face detection module\n",
    "faceModel = cv2.CascadeClassifier(\"haarcascade_face_detection.xml\")"
   ]
  },
  {
   "cell_type": "code",
   "execution_count": null,
   "id": "c821db81",
   "metadata": {},
   "outputs": [],
   "source": [
    "status,photo = cap.read()"
   ]
  },
  {
   "cell_type": "code",
   "execution_count": null,
   "id": "763d2e13",
   "metadata": {},
   "outputs": [],
   "source": [
    "# detecting face which gives the dimensions in the form of rectangle\n",
    "dimensions = faceModel.detectMultiScale(photo)"
   ]
  },
  {
   "cell_type": "code",
   "execution_count": null,
   "id": "a0a81139",
   "metadata": {},
   "outputs": [],
   "source": [
    "# storing the 2 diagonal points of the rectangle which is given by detectMultiScale function above\n",
    "x1=dimensions[0][0]\n",
    "y1=dimensions[0][1]\n",
    "x2=x1+dimensions[0][2]\n",
    "y2=y1+dimensions[0][3]\n",
    "newPhoto=cv2.rectangle(photo,(x1,y1),(x2,y2),[0,255,0],5)"
   ]
  },
  {
   "cell_type": "code",
   "execution_count": null,
   "id": "348c3303",
   "metadata": {},
   "outputs": [],
   "source": [
    "cv2.imshow(\"Myphoto\",newPhoto)\n",
    "cv2.waitKey()\n",
    "cv2.destroyAllWindows()"
   ]
  },
  {
   "cell_type": "code",
   "execution_count": null,
   "id": "e941d194",
   "metadata": {},
   "outputs": [],
   "source": [
    "# final code for live video streaming and detecting face\n",
    "\n",
    "while True:\n",
    "    status,photo = cap.read()\n",
    "#     photo[:,:,0:2]=70\n",
    "\n",
    "    # detecting face which gives the dimensions in the form of rectangle\n",
    "    FaceDetection = faceModel.detectMultiScale(photo)  \n",
    "    if(len(FaceDetection)>0):\n",
    "        for i in FaceDetection:\n",
    "            x1=i[0]\n",
    "            y1=i[1]\n",
    "            x2=x1+i[2]\n",
    "            y2=y1+i[3]\n",
    "            cv2.rectangle(photo,(x1,y1),(x2,y2),[0,255,0],5)\n",
    "    cv2.imshow(\"Myphoto\",photo)\n",
    "    if cv2.waitKey(10)==13:\n",
    "        break\n",
    "        \n",
    "cv2.destroyAllWindows()"
   ]
  },
  {
   "cell_type": "code",
   "execution_count": null,
   "id": "89712057",
   "metadata": {},
   "outputs": [],
   "source": [
    "# loading eye detection module\n",
    "towEyeModel = cv2.CascadeClassifier(\"haarcascade_eye_tree_eyesunglasses_detector.xml\")"
   ]
  },
  {
   "cell_type": "code",
   "execution_count": null,
   "id": "4e056dbf",
   "metadata": {},
   "outputs": [],
   "source": [
    "cap = cv2.VideoCapture(0)"
   ]
  },
  {
   "cell_type": "code",
   "execution_count": null,
   "id": "6ca12360",
   "metadata": {},
   "outputs": [],
   "source": [
    "status, photo = cap.read()"
   ]
  },
  {
   "cell_type": "code",
   "execution_count": null,
   "id": "ac522eed",
   "metadata": {},
   "outputs": [],
   "source": [
    "eyeModel.detectMultiScale(photo)"
   ]
  },
  {
   "cell_type": "code",
   "execution_count": null,
   "id": "77ed911a",
   "metadata": {},
   "outputs": [],
   "source": [
    "# final code for live video streaming and detecting two eyes seperatly\n",
    "\n",
    "while True:\n",
    "    \n",
    "    status,photo = cap.read()\n",
    "\n",
    "    # detecting eyes which gives the dimensions in the form of rectangle\n",
    "    eyeDetection = eyeModel.detectMultiScale(photo)  \n",
    "    \n",
    "    if(len(eyeDetection)>2):\n",
    "        \n",
    "        for i in range(0,2):\n",
    "            \n",
    "            x1=eyeDetection[i][0]\n",
    "            y1=eyeDetection[i][1]\n",
    "            x2=x1+eyeDetection[i][2]\n",
    "            y2=y1+eyeDetection[i][3]\n",
    "            cv2.rectangle(photo,(x1,y1),(x2,y2),[0,0,0],5)\n",
    "            \n",
    "    cv2.imshow(\"Myphoto\",photo)\n",
    "    if cv2.waitKey(10)==13:\n",
    "        break\n",
    "        \n",
    "cv2.destroyAllWindows()"
   ]
  },
  {
   "cell_type": "code",
   "execution_count": null,
   "id": "84eee5d5",
   "metadata": {},
   "outputs": [],
   "source": [
    "cap.release()"
   ]
  },
  {
   "cell_type": "code",
   "execution_count": null,
   "id": "8daf42ac",
   "metadata": {},
   "outputs": [],
   "source": [
    "import cv2\n",
    "cap = cv2.VideoCapture(0)"
   ]
  },
  {
   "cell_type": "code",
   "execution_count": null,
   "id": "811c76a1",
   "metadata": {},
   "outputs": [],
   "source": [
    "eyesModel=cv2.CascadeClassifier(\"haarcascade_eye_detection.xml\")"
   ]
  },
  {
   "cell_type": "code",
   "execution_count": 1,
   "id": "55cddbf2",
   "metadata": {},
   "outputs": [
    {
     "ename": "NameError",
     "evalue": "name 'cap' is not defined",
     "output_type": "error",
     "traceback": [
      "\u001b[0;31m---------------------------------------------------------------------------\u001b[0m",
      "\u001b[0;31mNameError\u001b[0m                                 Traceback (most recent call last)",
      "\u001b[0;32m/var/folders/h0/ssxp0pb56tzgv9f4khbw19t80000gn/T/ipykernel_6868/3194382991.py\u001b[0m in \u001b[0;36m<module>\u001b[0;34m\u001b[0m\n\u001b[1;32m      3\u001b[0m \u001b[0;32mwhile\u001b[0m \u001b[0;32mTrue\u001b[0m\u001b[0;34m:\u001b[0m\u001b[0;34m\u001b[0m\u001b[0;34m\u001b[0m\u001b[0m\n\u001b[1;32m      4\u001b[0m \u001b[0;34m\u001b[0m\u001b[0m\n\u001b[0;32m----> 5\u001b[0;31m     \u001b[0mstatus\u001b[0m\u001b[0;34m,\u001b[0m\u001b[0mphoto\u001b[0m \u001b[0;34m=\u001b[0m \u001b[0mcap\u001b[0m\u001b[0;34m.\u001b[0m\u001b[0mread\u001b[0m\u001b[0;34m(\u001b[0m\u001b[0;34m)\u001b[0m\u001b[0;34m\u001b[0m\u001b[0;34m\u001b[0m\u001b[0m\n\u001b[0m\u001b[1;32m      6\u001b[0m \u001b[0;34m\u001b[0m\u001b[0m\n\u001b[1;32m      7\u001b[0m     \u001b[0;31m# detecting eyes which gives the dimensions in the form of rectangle\u001b[0m\u001b[0;34m\u001b[0m\u001b[0;34m\u001b[0m\u001b[0m\n",
      "\u001b[0;31mNameError\u001b[0m: name 'cap' is not defined"
     ]
    }
   ],
   "source": [
    "# final code for live video streaming and detecting two eyes seperatly\n",
    "\n",
    "while True:\n",
    "    \n",
    "    status,photo = cap.read()\n",
    "\n",
    "    # detecting eyes which gives the dimensions in the form of rectangle\n",
    "    eyesDetection = eyesModel.detectMultiScale(photo)  \n",
    "    \n",
    "    if(len(eyesDetection)>0):\n",
    "        \n",
    "        for i in eyesDetection:\n",
    "            \n",
    "            x1=i[0]\n",
    "            y1=i[1]\n",
    "            x2=x1+i[2]\n",
    "            y2=y1+i[3]\n",
    "            cv2.rectangle(photo,(x1,y1),(x2,y2),[0,255,0],5)\n",
    "            \n",
    "    cv2.imshow(\"Myphoto\",photo)\n",
    "    if cv2.waitKey(10)==13:\n",
    "        break\n",
    "        \n",
    "cv2.destroyAllWindows()"
   ]
  },
  {
   "cell_type": "code",
   "execution_count": null,
   "id": "b7a3b1f1",
   "metadata": {},
   "outputs": [],
   "source": [
    "status , photo = cap.read()"
   ]
  },
  {
   "cell_type": "code",
   "execution_count": null,
   "id": "415f8b31",
   "metadata": {},
   "outputs": [],
   "source": [
    "cv2.imshow(\"Myphoto\",photo)\n",
    "cv2.waitKey(100)\n",
    "cv2.destroyAllWindows()"
   ]
  }
 ],
 "metadata": {
  "kernelspec": {
   "display_name": "Python 3 (ipykernel)",
   "language": "python",
   "name": "python3"
  },
  "language_info": {
   "codemirror_mode": {
    "name": "ipython",
    "version": 3
   },
   "file_extension": ".py",
   "mimetype": "text/x-python",
   "name": "python",
   "nbconvert_exporter": "python",
   "pygments_lexer": "ipython3",
   "version": "3.9.12"
  }
 },
 "nbformat": 4,
 "nbformat_minor": 5
}
