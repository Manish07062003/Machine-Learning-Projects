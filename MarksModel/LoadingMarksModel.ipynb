{
 "cells": [
  {
   "cell_type": "code",
   "execution_count": 2,
   "id": "7465d3f9",
   "metadata": {},
   "outputs": [],
   "source": [
    "import joblib"
   ]
  },
  {
   "cell_type": "code",
   "execution_count": 3,
   "id": "fb0e547a",
   "metadata": {},
   "outputs": [],
   "source": [
    "mind = joblib.load(\"myMarks.model\")"
   ]
  },
  {
   "cell_type": "code",
   "execution_count": 7,
   "id": "7f52d16d",
   "metadata": {},
   "outputs": [
    {
     "name": "stdout",
     "output_type": "stream",
     "text": [
      "Enter No of hrs u studied: 10\n",
      "You will get  [100.]  marks\n"
     ]
    }
   ],
   "source": [
    "hrs=int(input(\"Enter No of hrs u studied: \"))\n",
    "print(\"You will get \",mind.predict([[hrs]]),\" marks\")"
   ]
  }
 ],
 "metadata": {
  "kernelspec": {
   "display_name": "Python 3.11.3 64-bit",
   "language": "python",
   "name": "python3"
  },
  "language_info": {
   "codemirror_mode": {
    "name": "ipython",
    "version": 3
   },
   "file_extension": ".py",
   "mimetype": "text/x-python",
   "name": "python",
   "nbconvert_exporter": "python",
   "pygments_lexer": "ipython3",
   "version": "3.11.3"
  },
  "vscode": {
   "interpreter": {
    "hash": "949777d72b0d2535278d3dc13498b2535136f6dfe0678499012e853ee9abcab1"
   }
  }
 },
 "nbformat": 4,
 "nbformat_minor": 5
}
